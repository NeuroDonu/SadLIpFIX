{
  "cells": [
    {
      "cell_type": "code",
      "execution_count": null,
      "metadata": {
        "id": "TmRmUVt67Bw8",
        "cellView": "form"
      },
      "outputs": [],
      "source": [
        "#@title #Установка нейросети для озвучки и запуск ее\n",
        "from IPython.display import clear_output\n",
        "%cd /content/\n",
        "!git clone https://github.com/NeuroDonu/xttsRU\n",
        "%cd /content/xttsRU\n",
        "!pip install -q gradio TTS\n",
        "!wget https://huggingface.co/spaces/coqui/xtts/resolve/main/examples/female.wav -O /content/xttsRU/examples/female.wav\n",
        "!wget https://huggingface.co/spaces/coqui/xtts/resolve/main/examples/male.wav -O /content/xttsRU/examples/male.wav\n",
        "clear_output()\n",
        "print(\"Готово!\")\n",
        "!python app.py --share"
      ]
    },
    {
      "cell_type": "code",
      "execution_count": null,
      "metadata": {
        "id": "MkFAA9vdGcN3",
        "cellView": "form",
        "outputId": "0fca6918-cee5-4176-f655-29609ec29ef9",
        "colab": {
          "base_uri": "https://localhost:8080/"
        }
      },
      "outputs": [
        {
          "output_type": "stream",
          "name": "stdout",
          "text": [
            "Готово!\n"
          ]
        }
      ],
      "source": [
        "#@title Ставим нейросеть для синхронизации губ\n",
        "from IPython.display import clear_output\n",
        "%cd /content/\n",
        "!apt-get install megatools\n",
        "!mkdir /content/results\n",
        "!git clone https://github.com/NeuroDonu/SadLIpFIX\n",
        "%cd /content/SadLIpFIX/\n",
        "pip install torch==2.2.1 torchvision==0.17.1 torchaudio==2.2.1 --index-url https://download.pytorch.org/whl/cu121\n",
        "!apt install ffmpeg -y\n",
        "!pip install -r requirements.txt\n",
        "!pip install paddlepaddle-gpu\n",
        "clear_output()\n",
        "print(\"Готово!\")"
      ]
    },
    {
      "cell_type": "code",
      "execution_count": null,
      "metadata": {
        "cellView": "form",
        "colab": {
          "base_uri": "https://localhost:8080/"
        },
        "id": "-mGkcxdgIjTn",
        "outputId": "b6aa0ded-7539-45be-9683-f44152f2926d"
      },
      "outputs": [
        {
          "output_type": "stream",
          "name": "stdout",
          "text": [
            "Готово!\n"
          ]
        }
      ],
      "source": [
        "#@title #Установка моделей\n",
        "from IPython.display import clear_output\n",
        "from huggingface_hub import snapshot_download\n",
        "\n",
        "model_id=\"NeuroDonu/Sadtalker-VideoLip\"\n",
        "snapshot_download(repo_id=model_id, local_dir=\"/content/SadLIpFIX/checkpoints\",\n",
        "                  local_dir_use_symlinks=False, revision=\"main\")\n",
        "clear_output()\n",
        "print(\"Готово!\")"
      ]
    },
    {
      "cell_type": "code",
      "execution_count": null,
      "metadata": {
        "id": "c-sGIU8iIs9m",
        "cellView": "form"
      },
      "outputs": [],
      "source": [
        "#@title #Запуск нейросети для синхронизации губ\n",
        "!python app.py --share"
      ]
    }
  ],
  "metadata": {
    "accelerator": "GPU",
    "colab": {
      "provenance": []
    },
    "kernelspec": {
      "display_name": "Python 3",
      "name": "python3"
    },
    "language_info": {
      "name": "python"
    }
  },
  "nbformat": 4,
  "nbformat_minor": 0
}