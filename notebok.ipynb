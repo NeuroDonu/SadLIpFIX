{
  "cells": [
    {
      "cell_type": "code",
      "execution_count": null,
      "metadata": {
        "cellView": "form",
        "colab": {
          "base_uri": "https://localhost:8080/"
        },
        "id": "MkFAA9vdGcN3",
        "outputId": "0fca6918-cee5-4176-f655-29609ec29ef9"
      },
      "outputs": [],
      "source": [
        "#@title Ставим нейросеть для синхронизации губ\n",
        "from IPython.display import clear_output\n",
        "%cd /content/\n",
        "!git clone https://github.com/NeuroDonu/SadLIpFIX\n",
        "%cd /content/SadLIpFIX/\n",
        "!mkdir /content/SadLIpFIX/results\n",
        "pip install torch==2.2.1 torchvision==0.17.1 torchaudio==2.2.1 --index-url https://download.pytorch.org/whl/cu121\n",
        "!apt install ffmpeg -y\n",
        "!pip install -r requirements.txt\n",
        "!pip install paddlepaddle-gpu\n",
        "clear_output()\n",
        "print(\"Готово!\")"
      ]
    },
    {
      "cell_type": "code",
      "execution_count": null,
      "metadata": {
        "cellView": "form",
        "colab": {
          "base_uri": "https://localhost:8080/"
        },
        "id": "-mGkcxdgIjTn",
        "outputId": "b6aa0ded-7539-45be-9683-f44152f2926d"
      },
      "outputs": [],
      "source": [
        "#@title #Установка моделей\n",
        "from IPython.display import clear_output\n",
        "from huggingface_hub import snapshot_download\n",
        "\n",
        "model_id=\"NeuroDonu/Sadtalker-VideoLip\"\n",
        "snapshot_download(repo_id=model_id, local_dir=\"/content/SadLIpFIX/checkpoints\",\n",
        "                  local_dir_use_symlinks=False, revision=\"main\")\n",
        "clear_output()\n",
        "print(\"Готово!\")"
      ]
    },
    {
      "cell_type": "code",
      "execution_count": null,
      "metadata": {
        "cellView": "form",
        "id": "c-sGIU8iIs9m"
      },
      "outputs": [],
      "source": [
        "#@title #Запуск нейросети для синхронизации губ\n",
        "!python app.py --share"
      ]
    }
  ],
  "metadata": {
    "accelerator": "GPU",
    "colab": {
      "provenance": []
    },
    "kernelspec": {
      "display_name": "Python 3",
      "name": "python3"
    },
    "language_info": {
      "name": "python"
    }
  },
  "nbformat": 4,
  "nbformat_minor": 0
}
